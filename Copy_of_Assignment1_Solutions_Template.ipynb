{
  "nbformat": 4,
  "nbformat_minor": 0,
  "metadata": {
    "kernelspec": {
      "display_name": "Python 3",
      "language": "python",
      "name": "python3"
    },
    "language_info": {
      "codemirror_mode": {
        "name": "ipython",
        "version": 3
      },
      "file_extension": ".py",
      "mimetype": "text/x-python",
      "name": "python",
      "nbconvert_exporter": "python",
      "pygments_lexer": "ipython3",
      "version": "3.6.8"
    },
    "colab": {
      "name": "Copy of Assignment1_Solutions_Template.ipynb",
      "provenance": [],
      "collapsed_sections": [
        "EbHKYvnnZNxj",
        "bbC8dgTVZNxr",
        "CFOfekGvZNxu",
        "LNSGAhI_ZNxy"
      ],
      "include_colab_link": true
    }
  },
  "cells": [
    {
      "cell_type": "markdown",
      "metadata": {
        "id": "view-in-github",
        "colab_type": "text"
      },
      "source": [
        "<a href=\"https://colab.research.google.com/github/connerar/phys341/blob/master/Copy_of_Assignment1_Solutions_Template.ipynb\" target=\"_parent\"><img src=\"https://colab.research.google.com/assets/colab-badge.svg\" alt=\"Open In Colab\"/></a>"
      ]
    },
    {
      "cell_type": "markdown",
      "metadata": {
        "id": "KpBUMTNiZNwy",
        "colab_type": "text"
      },
      "source": [
        "# Assignment 1 Solutions"
      ]
    },
    {
      "cell_type": "code",
      "metadata": {
        "id": "qC-QSErnZNwy",
        "colab_type": "code",
        "colab": {}
      },
      "source": [
        "# Import the required packages, \n",
        "# with their conventional names \n",
        "import matplotlib.pyplot as plt \n",
        "import numpy as np \n",
        "import scipy.stats as stats"
      ],
      "execution_count": null,
      "outputs": []
    },
    {
      "cell_type": "markdown",
      "metadata": {
        "id": "IxaG7pGDZNw2",
        "colab_type": "text"
      },
      "source": [
        "# Question 1:  \n",
        "\n",
        "A cat is launched from the top of the Trible library with zero initial velocity, and lands, unharmed, on the ground below time later. The height of the Trible library is measured to be (21.2 +/- 0.4) m. The time is measured to be (2.04 +/- 0.05) s.\n",
        "\n",
        "(a) What is the measured value of the acceleration due to gravity, ignoring air resistance?\n",
        "\n",
        "(b) Assuming that the uncertainties quoted above follow a uniform error distribution, what is the measured uncertainty in the acceleration due to gravity?\n",
        "\n",
        "(c) Assuming that the uncertainties quoted above follow a Gaussian error distribution, what is the measured uncertainty in the acceleration due to gravity?"
      ]
    },
    {
      "cell_type": "code",
      "metadata": {
        "id": "6FrKkxC9ZNw2",
        "colab_type": "code",
        "colab": {
          "base_uri": "https://localhost:8080/",
          "height": 34
        },
        "outputId": "27a148f2-babd-4f50-bf8b-4be8510de18c"
      },
      "source": [
        "h = 22.\n",
        "dh = .3\n",
        "t = 2.1\n",
        "dt = .05\n",
        "\n",
        "dgdh = np.abs(2.0 / t**2)\n",
        "dgdt = np.abs(-4.0 * h / t**3)\n",
        "dg = dgdh * dh + dgdt * dt\n",
        "g = 2.0 * h / t**2\n",
        "\n",
        "print (\"g = %.3f +/- %.3f\" % (g,dg))\n",
        "print(\"a) is 9.977\")"
      ],
      "execution_count": null,
      "outputs": [
        {
          "output_type": "stream",
          "text": [
            "g = 9.977 +/- 0.611\n"
          ],
          "name": "stdout"
        }
      ]
    },
    {
      "cell_type": "code",
      "metadata": {
        "id": "RWSb_ahXZNw5",
        "colab_type": "code",
        "colab": {
          "base_uri": "https://localhost:8080/",
          "height": 622
        },
        "outputId": "bbc2552f-db4e-4842-d8a5-11c6ca1c3978"
      },
      "source": [
        "npts = 10000\n",
        "\n",
        "hdata = h + dh*np.random.randn(npts)\n",
        "tdata = t + dt*np.random.randn(npts)\n",
        "\n",
        "g = 2.0*hdata/tdata**2\n",
        "\n",
        "dg = np.std(g,ddof=1)\n",
        "gmean = np.mean(g)\n",
        "\n",
        "print (\"g = %.3f +/- %.3f\" % (gmean,dg))\n",
        "print(\"c) .494\")\n",
        "print(\"\\n\")\n",
        "\n",
        "plt.hist(g,50)"
      ],
      "execution_count": null,
      "outputs": [
        {
          "output_type": "stream",
          "text": [
            "g = 9.989 +/- 0.494\n",
            "c) .494\n",
            "\n",
            "\n"
          ],
          "name": "stdout"
        },
        {
          "output_type": "execute_result",
          "data": {
            "text/plain": [
              "(array([  1.,   3.,   5.,   3.,  10.,  15.,  30.,  47.,  71.,  64.,  96.,\n",
              "        136., 183., 236., 301., 363., 438., 408., 552., 560., 643., 644.,\n",
              "        559., 580., 591., 541., 465., 438., 382., 332., 279., 233., 177.,\n",
              "        152., 122.,  90.,  58.,  41.,  41.,  26.,  27.,  15.,  13.,   8.,\n",
              "          7.,   8.,   1.,   1.,   2.,   2.]),\n",
              " array([ 8.29878584,  8.37358829,  8.44839074,  8.52319318,  8.59799563,\n",
              "         8.67279808,  8.74760052,  8.82240297,  8.89720542,  8.97200786,\n",
              "         9.04681031,  9.12161276,  9.19641521,  9.27121765,  9.3460201 ,\n",
              "         9.42082255,  9.49562499,  9.57042744,  9.64522989,  9.72003234,\n",
              "         9.79483478,  9.86963723,  9.94443968, 10.01924212, 10.09404457,\n",
              "        10.16884702, 10.24364946, 10.31845191, 10.39325436, 10.46805681,\n",
              "        10.54285925, 10.6176617 , 10.69246415, 10.76726659, 10.84206904,\n",
              "        10.91687149, 10.99167394, 11.06647638, 11.14127883, 11.21608128,\n",
              "        11.29088372, 11.36568617, 11.44048862, 11.51529106, 11.59009351,\n",
              "        11.66489596, 11.73969841, 11.81450085, 11.8893033 , 11.96410575,\n",
              "        12.03890819]),\n",
              " <a list of 50 Patch objects>)"
            ]
          },
          "metadata": {
            "tags": []
          },
          "execution_count": 18
        },
        {
          "output_type": "display_data",
          "data": {
            "image/png": "[encoded data removed]",
            "text/plain": [
              "<Figure size 432x288 with 1 Axes>"
            ]
          },
          "metadata": {
            "tags": [],
            "needs_background": "light"
          }
        }
      ]
    },
    {
      "cell_type": "code",
      "metadata": {
        "id": "WSfkZbRoZNw7",
        "colab_type": "code",
        "colab": {
          "base_uri": "https://localhost:8080/",
          "height": 622
        },
        "outputId": "9b0b649b-3402-4383-cb9b-0a3551dd4eec"
      },
      "source": [
        "npts = 10000\n",
        "\n",
        "hdata = h - dh + 2.0*dh*np.random.random(npts)\n",
        "tdata = t - dt + 2.0*dt*np.random.random(npts)\n",
        "\n",
        "g = 2.0*hdata/tdata**2\n",
        "\n",
        "dg = np.ptp(g)/2.0\n",
        "gmean = np.mean(g)\n",
        "\n",
        "print (\"g = %.3f +/- %.3f\" % (gmean,dg))\n",
        "print(\"b) .602\")\n",
        "print(\"\\n\")\n",
        "\n",
        "plt.hist(g,50)"
      ],
      "execution_count": null,
      "outputs": [
        {
          "output_type": "stream",
          "text": [
            "g = 9.986 +/- 0.609\n",
            "b) .602\n",
            "\n",
            "\n"
          ],
          "name": "stdout"
        },
        {
          "output_type": "execute_result",
          "data": {
            "text/plain": [
              "(array([ 23.,  35.,  55.,  73., 140., 137., 162., 196., 221., 251., 257.,\n",
              "        250., 264., 248., 231., 274., 266., 272., 248., 247., 273., 260.,\n",
              "        263., 253., 251., 285., 252., 250., 259., 265., 231., 296., 254.,\n",
              "        219., 245., 239., 274., 267., 257., 215., 198., 195., 147., 119.,\n",
              "        104., 110.,  61.,  52.,  47.,   9.]),\n",
              " array([ 9.38961094,  9.41396857,  9.43832621,  9.46268384,  9.48704147,\n",
              "         9.51139911,  9.53575674,  9.56011438,  9.58447201,  9.60882965,\n",
              "         9.63318728,  9.65754491,  9.68190255,  9.70626018,  9.73061782,\n",
              "         9.75497545,  9.77933309,  9.80369072,  9.82804835,  9.85240599,\n",
              "         9.87676362,  9.90112126,  9.92547889,  9.94983653,  9.97419416,\n",
              "         9.9985518 , 10.02290943, 10.04726706, 10.0716247 , 10.09598233,\n",
              "        10.12033997, 10.1446976 , 10.16905524, 10.19341287, 10.2177705 ,\n",
              "        10.24212814, 10.26648577, 10.29084341, 10.31520104, 10.33955868,\n",
              "        10.36391631, 10.38827394, 10.41263158, 10.43698921, 10.46134685,\n",
              "        10.48570448, 10.51006212, 10.53441975, 10.55877738, 10.58313502,\n",
              "        10.60749265]),\n",
              " <a list of 50 Patch objects>)"
            ]
          },
          "metadata": {
            "tags": []
          },
          "execution_count": 17
        },
        {
          "output_type": "display_data",
          "data": {
            "image/png": "[encoded data removed]",
            "text/plain": [
              "<Figure size 432x288 with 1 Axes>"
            ]
          },
          "metadata": {
            "tags": [],
            "needs_background": "light"
          }
        }
      ]
    },
    {
      "cell_type": "code",
      "metadata": {
        "id": "5s9YQ91AZNw9",
        "colab_type": "code",
        "colab": {}
      },
      "source": [
        ""
      ],
      "execution_count": null,
      "outputs": []
    },
    {
      "cell_type": "markdown",
      "metadata": {
        "id": "Nx_f3Q_4ZNw_",
        "colab_type": "text"
      },
      "source": [
        "# Question 2: \n",
        "\n",
        "Airlines sometimes overbook flights. Suppose that for a plane with 50 seats, 55 passengers have tickets. Define the random variable Y as the number of ticketed passengers who actually show up for the flight. The probability mass function of Y appears in the accompanying table.\n",
        "\n",
        "(a) What is the probability that the flight will accommodate all ticketed passengers who show up?\n",
        "\n",
        "(b) What is the probability that not all ticketed passengers who show up can be accommodated?\n",
        "\n",
        "(c) If you are the first person on the standby list (which means you will be the first one to get on the plane if there are any seats available after all ticketed passengers have been accommodated), what is the probability that you will be able to take the flight? \n",
        "\n",
        "What is this probability if you are the third person on the standby list?"
      ]
    },
    {
      "cell_type": "code",
      "metadata": {
        "id": "jDaEBnfuZNw_",
        "colab_type": "code",
        "colab": {}
      },
      "source": [
        ""
      ],
      "execution_count": null,
      "outputs": []
    },
    {
      "cell_type": "code",
      "metadata": {
        "id": "qG04wY6pZNxB",
        "colab_type": "code",
        "colab": {}
      },
      "source": [
        ""
      ],
      "execution_count": null,
      "outputs": []
    },
    {
      "cell_type": "code",
      "metadata": {
        "id": "QIsQvy_fZNxD",
        "colab_type": "code",
        "colab": {}
      },
      "source": [
        ""
      ],
      "execution_count": null,
      "outputs": []
    },
    {
      "cell_type": "code",
      "metadata": {
        "id": "i-RAAD-YZNxE",
        "colab_type": "code",
        "colab": {}
      },
      "source": [
        ""
      ],
      "execution_count": null,
      "outputs": []
    },
    {
      "cell_type": "markdown",
      "metadata": {
        "id": "7bWZIZ2-ZNxG",
        "colab_type": "text"
      },
      "source": [
        "# Question 3: \n",
        "\n",
        "A mail-order company business has six telephone lines. Let X denote the number of lines in use at a specified time. Suppose the pmf of X is as given in the accompanying table.\n",
        "\n",
        "\n",
        "Calculate the probability of each of the following events.\n",
        "\n",
        "(a) {at most three lines are in use}\n",
        "\n",
        "(b) {fewer than three lines are in use}\n",
        "\n",
        "(c) {at least three lines are in use}\n",
        "\n",
        "(d) {between two and five lines, inclusive, are in use}\n",
        "\n",
        "(e) {between two and four lines, inclusive, are not in use}\n",
        "\n",
        "(f) {at least four lines are not in use}"
      ]
    },
    {
      "cell_type": "code",
      "metadata": {
        "id": "mctOFvTjZNxH",
        "colab_type": "code",
        "colab": {}
      },
      "source": [
        ""
      ],
      "execution_count": null,
      "outputs": []
    },
    {
      "cell_type": "code",
      "metadata": {
        "id": "3cvdvTexZNxJ",
        "colab_type": "code",
        "colab": {}
      },
      "source": [
        ""
      ],
      "execution_count": null,
      "outputs": []
    },
    {
      "cell_type": "markdown",
      "metadata": {
        "id": "u6RQO2l4ZNxL",
        "colab_type": "text"
      },
      "source": [
        "# Question 4: \n",
        "\n",
        "Compute the following binomial probabilities directly from the formula for b(x; n, p).\n",
        "\n",
        "(a) b(3; 5, 0.48)\n",
        "\n",
        "(b) b(2; 7, 0.77)\n",
        "\n",
        "(c) P(3 <= X <= 5) when n = 9 and p = 0.76\n",
        "\n",
        "(d) P(1 <= X) when n = 12 and p = 0.14"
      ]
    },
    {
      "cell_type": "code",
      "metadata": {
        "id": "_IblSd_nZNxM",
        "colab_type": "code",
        "colab": {
          "base_uri": "https://localhost:8080/",
          "height": 34
        },
        "outputId": "82c8378d-a962-43bf-de90-403185f802e6"
      },
      "source": [
        "k = 1   #Number of units we are interested in from sample size\n",
        "n = 6   #Total sample size\n",
        "p = .44 #\n",
        "\n",
        "#pmf give specific values\n",
        "#cdf give intergral of p(x)\n",
        "answer1 = stats.binom.pmf(k, n, p)\n",
        "\n",
        "print(answer1)\n"
      ],
      "execution_count": null,
      "outputs": [
        {
          "output_type": "stream",
          "text": [
            "0.14539318886400002\n"
          ],
          "name": "stdout"
        }
      ]
    },
    {
      "cell_type": "code",
      "metadata": {
        "id": "NagLVVb_ZNxN",
        "colab_type": "code",
        "colab": {
          "base_uri": "https://localhost:8080/",
          "height": 34
        },
        "outputId": "b1b2fa83-65e1-444f-b5ca-9be4e07c99b2"
      },
      "source": [
        "k = 2\n",
        "n = 6\n",
        "p = .77\n",
        "\n",
        "answer = stats.binom.pmf(k, n, p)\n",
        "print(answer)"
      ],
      "execution_count": null,
      "outputs": [
        {
          "output_type": "stream",
          "text": [
            "0.024887659335000003\n"
          ],
          "name": "stdout"
        }
      ]
    },
    {
      "cell_type": "code",
      "metadata": {
        "id": "jrWi0LJVZNxP",
        "colab_type": "code",
        "colab": {}
      },
      "source": [
        ""
      ],
      "execution_count": null,
      "outputs": []
    },
    {
      "cell_type": "code",
      "metadata": {
        "id": "ljmm6n-aZNxQ",
        "colab_type": "code",
        "colab": {
          "base_uri": "https://localhost:8080/",
          "height": 34
        },
        "outputId": "03d78532-d68c-45bc-c86e-b2918481ecea"
      },
      "source": [
        "n = 1000\n",
        "p = .63\n",
        "k = 886\n",
        "\n",
        "answer1 = stats.binom.cdf(k, n, p)\n",
        "\n",
        "k = 351\n",
        "answer2 = stats.binom.cdf(k,n,p)\n",
        "\n",
        "print(answer1 - answer2)"
      ],
      "execution_count": null,
      "outputs": [
        {
          "output_type": "stream",
          "text": [
            "0.9999999999999999\n"
          ],
          "name": "stdout"
        }
      ]
    },
    {
      "cell_type": "code",
      "metadata": {
        "id": "OPkIaJf9ZNxS",
        "colab_type": "code",
        "colab": {
          "base_uri": "https://localhost:8080/",
          "height": 34
        },
        "outputId": "18a44edf-a659-4d9b-b3ca-4226f4cd0e6b"
      },
      "source": [
        "n = 13\n",
        "p = .22\n",
        "k = 0\n",
        "\n",
        "answer1 = stats.binom.pmf(k, n, p)\n",
        "print(1-answer1)\n"
      ],
      "execution_count": null,
      "outputs": [
        {
          "output_type": "stream",
          "text": [
            "0.960442409077352\n"
          ],
          "name": "stdout"
        }
      ]
    },
    {
      "cell_type": "markdown",
      "metadata": {
        "id": "CilSER7TZNxU",
        "colab_type": "text"
      },
      "source": [
        "# Question 5:\n",
        "\n",
        "When circuit boards used in the manufacture of compact disc players are tested, the long-run percentage of defectives is 10%. Let X = the number of defective boards in a random sample of size n = 25, so X ~ Bin(25, 0.10).\n",
        "\n",
        "(a) Determine P(X <= 2).\n",
        "\n",
        "(b) Determine P(X >= 5).\n",
        "\n",
        "(c) Determine P(1 <= X <= 4).\n",
        "\n",
        "(d) What is the probability that none of the 25 boards is defective?\n",
        "\n",
        "(e) Calculate the expected value and standard deviation of X."
      ]
    },
    {
      "cell_type": "code",
      "metadata": {
        "id": "rgIg3W9lZNxU",
        "colab_type": "code",
        "colab": {
          "base_uri": "https://localhost:8080/",
          "height": 34
        },
        "outputId": "dec6751c-388c-4e68-dd87-90f8011c0897"
      },
      "source": [
        "#a) Determine P(X <= 2)\n",
        "p = .01 #Wants to know number of defective boards which is 10%\n",
        "n = 20 #Maximum number of boards\n",
        "k = 2 #Number of defective boards\n",
        "\n",
        "answer = stats.binom.cdf(k, n, p)\n",
        "print(answer)\n",
        "\n"
      ],
      "execution_count": null,
      "outputs": [
        {
          "output_type": "stream",
          "text": [
            "0.9989964238318999\n"
          ],
          "name": "stdout"
        }
      ]
    },
    {
      "cell_type": "code",
      "metadata": {
        "id": "GKDpMagdZNxW",
        "colab_type": "code",
        "colab": {
          "base_uri": "https://localhost:8080/",
          "height": 51
        },
        "outputId": "aad749e4-4528-4a1f-c588-f718461fb21b"
      },
      "source": [
        "#b) Determine P(X >= 5)\n",
        "k = 5 #5 defective boards\n",
        "\n",
        "answer = stats.binom.cdf(k, n, p) #Gives the probability of 0-5 defective boards\n",
        "print(\"Probability of 0 - 5 defective boards: \", answer)\n",
        "print(\"Probaility of more than 5 defective boards: \", 1 - answer)"
      ],
      "execution_count": null,
      "outputs": [
        {
          "output_type": "stream",
          "text": [
            "Probability of 0 - 5 defective boards:  0.9999999656358401\n",
            "Probaility of more than 5 defective boards:  3.436415985103025e-08\n"
          ],
          "name": "stdout"
        }
      ]
    },
    {
      "cell_type": "code",
      "metadata": {
        "id": "bYluR5l8ZNxZ",
        "colab_type": "code",
        "colab": {
          "base_uri": "https://localhost:8080/",
          "height": 68
        },
        "outputId": "3bb55516-1ea2-4703-f0ef-89685ba77465"
      },
      "source": [
        "#c) Determine P(1 <= X <= 4)\n",
        "\n",
        "k = 4\n",
        "answer1 = stats.binom.cdf(k, n, p) #Probability of up to 4 Defective boards\n",
        "print(\"Answer 1: \", answer1)\n",
        "\n",
        "k = 0\n",
        "answer2 = stats.binom.cdf(k, n, p) #Probability of up to 0 defective boards\n",
        "print(\"Answer 2: \", answer2)\n",
        "\n",
        "print(answer1 - answer2) #Subtract answer2 from answer 1 to get the probaility of 1-4 defective boards"
      ],
      "execution_count": null,
      "outputs": [
        {
          "output_type": "stream",
          "text": [
            "Answer 1:  0.9999986322013671\n",
            "Answer 2:  0.8179069375972308\n",
            "0.18209169460413632\n"
          ],
          "name": "stdout"
        }
      ]
    },
    {
      "cell_type": "code",
      "metadata": {
        "id": "FQkq0pv-ZNxc",
        "colab_type": "code",
        "colab": {
          "base_uri": "https://localhost:8080/",
          "height": 34
        },
        "outputId": "f9ae9227-666e-4181-beaf-6591e461043f"
      },
      "source": [
        "k = 0 #0 defective boards\n",
        "\n",
        "answer = stats.binom.pmf(k, n, p) #probability of 0 defective boards\n",
        "print(answer)"
      ],
      "execution_count": null,
      "outputs": [
        {
          "output_type": "stream",
          "text": [
            "0.8179069375972309\n"
          ],
          "name": "stdout"
        }
      ]
    },
    {
      "cell_type": "code",
      "metadata": {
        "id": "xYF-IkeNZNxd",
        "colab_type": "code",
        "colab": {
          "base_uri": "https://localhost:8080/",
          "height": 51
        },
        "outputId": "815c2439-faff-4781-eb37-c2caf6bf6a24"
      },
      "source": [
        "mu = n * p #Expected Value\n",
        "\n",
        "print(mu)\n",
        "\n",
        "sigma = np.sqrt(n * p * (1 - p)) #Standard Deviation\n",
        "\n",
        "print(sigma)"
      ],
      "execution_count": null,
      "outputs": [
        {
          "output_type": "stream",
          "text": [
            "0.2\n",
            "0.4449719092257398\n"
          ],
          "name": "stdout"
        }
      ]
    },
    {
      "cell_type": "code",
      "metadata": {
        "id": "i-hYMbM8ZNxf",
        "colab_type": "code",
        "colab": {}
      },
      "source": [
        ""
      ],
      "execution_count": null,
      "outputs": []
    },
    {
      "cell_type": "code",
      "metadata": {
        "id": "WvJImwWHZNxg",
        "colab_type": "code",
        "colab": {}
      },
      "source": [
        ""
      ],
      "execution_count": null,
      "outputs": []
    },
    {
      "cell_type": "markdown",
      "metadata": {
        "id": "EbHKYvnnZNxj",
        "colab_type": "text"
      },
      "source": [
        "# Question 6:\n",
        "\n",
        "An airport limousine can accommodate up to four passengers on any one trip. The company will accept a maximum of six reservations for a trip, and a passenger must have a reservation. From previous records, 40% of all those making reservations do not appear for the trip. Answer the following questions, assuming independence wherever appropriate.\n",
        "\n",
        "(a) If six reservations are made, what is the probability that at least one individual with a reservation cannot be accommodated on the trip?\n",
        "\n",
        "(b) If six reservations are made, what is the expected number of available places when the limousine departs?\n",
        "Your answer is incorrect.\n",
        "\n",
        "(c) Suppose the probability distribution of the number of reservations made is given in the accompanying table.\n",
        "\n",
        "Number of reservations    \t3      4\t 5\t   6\n",
        "\n",
        "Probability\t                0.09   0.24  0.33  0.34    \n",
        "\n",
        "Let X denote the number of passengers on a randomly selected trip. Obtain the probability mass function of X."
      ]
    },
    {
      "cell_type": "code",
      "metadata": {
        "id": "M6d3AO2XZNxk",
        "colab_type": "code",
        "colab": {}
      },
      "source": [
        ""
      ],
      "execution_count": null,
      "outputs": []
    },
    {
      "cell_type": "code",
      "metadata": {
        "id": "vsJ-zvU-ZNxl",
        "colab_type": "code",
        "colab": {}
      },
      "source": [
        ""
      ],
      "execution_count": null,
      "outputs": []
    },
    {
      "cell_type": "code",
      "metadata": {
        "id": "TW9iMFBkZNxn",
        "colab_type": "code",
        "colab": {}
      },
      "source": [
        "\n",
        "        "
      ],
      "execution_count": null,
      "outputs": []
    },
    {
      "cell_type": "code",
      "metadata": {
        "id": "_sRPXimiZNxp",
        "colab_type": "code",
        "colab": {}
      },
      "source": [
        ""
      ],
      "execution_count": null,
      "outputs": []
    },
    {
      "cell_type": "markdown",
      "metadata": {
        "id": "bbC8dgTVZNxr",
        "colab_type": "text"
      },
      "source": [
        "# Question 7:\n",
        "\n",
        "Let X, the number of flaws on the surface of a randomly selected boiler of a certain type, have a Poisson distribution with parameter λ = 3. Compute the following probabilities.\n",
        "\n",
        "(a) P(X ≤ 8)\n",
        "\n",
        "(b) P(X = 8)\n",
        "\n",
        "(c) P(9 ≤ X)\n",
        "\n",
        "(d) P(5 ≤ X ≤ 8)\n",
        "\n",
        "(e) P(5 < X < 8)"
      ]
    },
    {
      "cell_type": "code",
      "metadata": {
        "id": "LdVIJ7iqZNxr",
        "colab_type": "code",
        "colab": {}
      },
      "source": [
        ""
      ],
      "execution_count": null,
      "outputs": []
    },
    {
      "cell_type": "code",
      "metadata": {
        "id": "WeomAO3qZNxt",
        "colab_type": "code",
        "colab": {}
      },
      "source": [
        ""
      ],
      "execution_count": null,
      "outputs": []
    },
    {
      "cell_type": "markdown",
      "metadata": {
        "id": "CFOfekGvZNxu",
        "colab_type": "text"
      },
      "source": [
        "# Question 8\n",
        "\n",
        "Consider writing onto a computer disk and then sending it through a certifier that counts the number of missing pulses. Suppose this number X has a Poisson distribution with parameter λ = 0.19.\n",
        "\n",
        "(a) What is the probability that a disk has exactly one missing pulse?\n",
        "\n",
        "(b) What is the probability that a disk has at least two missing pulses?\n",
        "\n",
        "(c) If two disks are independently selected, what is the probability that neither contains a missing pulse?"
      ]
    },
    {
      "cell_type": "code",
      "metadata": {
        "id": "1_FpVjsYZNxv",
        "colab_type": "code",
        "colab": {}
      },
      "source": [
        ""
      ],
      "execution_count": null,
      "outputs": []
    },
    {
      "cell_type": "code",
      "metadata": {
        "id": "rI9TFDfvZNxw",
        "colab_type": "code",
        "colab": {}
      },
      "source": [
        ""
      ],
      "execution_count": null,
      "outputs": []
    },
    {
      "cell_type": "markdown",
      "metadata": {
        "id": "LNSGAhI_ZNxy",
        "colab_type": "text"
      },
      "source": [
        "# Question 9\n",
        "\n",
        "In proof testing of circuit boards, the probability that any particular diode will fail is 0.01. Suppose a circuit board contains 150 diodes.\n",
        "\n",
        "(a) How many diodes would you expect to fail?\n",
        "\n",
        "What is the standard deviation of the number that are expected to fail?\n",
        "\n",
        "(b) What is the (approximate) probability that at least four diodes will fail on a randomly selected board? (Use binomial approximation.)\n",
        "\n",
        "(c) If five boards are shipped to a particular customer, how likely is it that at least four of them will work properly? (A board works properly only if all its diodes work.)"
      ]
    },
    {
      "cell_type": "code",
      "metadata": {
        "id": "IVFSqKLeZNxy",
        "colab_type": "code",
        "colab": {}
      },
      "source": [
        ""
      ],
      "execution_count": null,
      "outputs": []
    },
    {
      "cell_type": "code",
      "metadata": {
        "id": "LQb-0A6xZNxz",
        "colab_type": "code",
        "colab": {}
      },
      "source": [
        ""
      ],
      "execution_count": null,
      "outputs": []
    },
    {
      "cell_type": "code",
      "metadata": {
        "id": "Ci6-lxNFZNx1",
        "colab_type": "code",
        "colab": {}
      },
      "source": [
        ""
      ],
      "execution_count": null,
      "outputs": []
    },
    {
      "cell_type": "code",
      "metadata": {
        "id": "zIzCsl-aZNx2",
        "colab_type": "code",
        "colab": {}
      },
      "source": [
        ""
      ],
      "execution_count": null,
      "outputs": []
    },
    {
      "cell_type": "code",
      "metadata": {
        "id": "paeH98U3ZNx4",
        "colab_type": "code",
        "colab": {}
      },
      "source": [
        ""
      ],
      "execution_count": null,
      "outputs": []
    },
    {
      "cell_type": "code",
      "metadata": {
        "id": "_S9RNgE-ZNx6",
        "colab_type": "code",
        "colab": {}
      },
      "source": [
        ""
      ],
      "execution_count": null,
      "outputs": []
    },
    {
      "cell_type": "code",
      "metadata": {
        "id": "5RhHn6ykZNx8",
        "colab_type": "code",
        "colab": {}
      },
      "source": [
        ""
      ],
      "execution_count": null,
      "outputs": []
    }
  ]
}